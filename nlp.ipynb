{
 "cells": [
  {
   "cell_type": "markdown",
   "metadata": {},
   "source": [
    "Before you turn this coursework in, make sure everything runs as expected. First, **restart the kernel** (in the menubar, select Kernel$\\rightarrow$Restart) and then **run all cells** (in the menubar, select Cell$\\rightarrow$Run All)."
   ]
  },
  {
   "cell_type": "code",
   "execution_count": 1,
   "metadata": {},
   "outputs": [],
   "source": [
    "NAME = \"\"\n",
    "CIS_USERNAME = \"\""
   ]
  },
  {
   "cell_type": "markdown",
   "metadata": {},
   "source": [
    "---"
   ]
  },
  {
   "cell_type": "markdown",
   "metadata": {
    "deletable": false,
    "editable": false,
    "nbgrader": {
     "cell_type": "markdown",
     "checksum": "c2ed8244d1822167b9619a27c5056a2d",
     "grade": false,
     "grade_id": "cell-c772e32fbd55cccd",
     "locked": true,
     "schema_version": 3,
     "solution": false,
     "task": false
    }
   },
   "source": [
    "# COMP42415 Text Mining and Language Analytics\n",
    "## Coursework 2023-24\n",
    "\n",
    "### Instructions:\n",
    "\n",
    "- <ins>**DO NOT RENAME THIS JUPYTER NOTEBOOK !!!**</ins>\n",
    "- Please write the answers for each question in the respective cell. \n",
    "- You can add more cells if needed.\n",
    "- If needed, you can upload additional files, e.g. pre-trained word embeddings, in the coursework's directory\n",
    "- You can safely remove the `raise NotImplementedError()` line from each code cell.\n",
    "- You can find information about markdown syntax from [here](https://www.markdownguide.org/basic-syntax/#emphasis)."
   ]
  },
  {
   "cell_type": "markdown",
   "metadata": {
    "deletable": false,
    "editable": false,
    "nbgrader": {
     "cell_type": "markdown",
     "checksum": "068e2a188a6a3db5c142be9d8afbb053",
     "grade": false,
     "grade_id": "cell-7f0204ddaabf431f",
     "locked": true,
     "schema_version": 3,
     "solution": false,
     "task": false
    }
   },
   "source": [
    "## Implementation - Task 1\n",
    "Prepare the dataset by applying any pre-processing or cleaning steps that you consider as necessary. Then, split the dataset into a training set containing 70% of the samples and a test set containing 30% of the samples. Follow an appropriate strategy for the split. You must use these training/test sets for all the models in this coursework. (**10%**)"
   ]
  },
  {
   "cell_type": "code",
   "execution_count": 1,
   "metadata": {
    "deletable": false,
    "nbgrader": {
     "cell_type": "code",
     "checksum": "9d8184a650c6efb613adc101bb08baf9",
     "grade": true,
     "grade_id": "cell-1ec6ac90f0506a35",
     "locked": false,
     "points": 10,
     "schema_version": 3,
     "solution": true,
     "task": false
    }
   },
   "outputs": [
    {
     "name": "stderr",
     "output_type": "stream",
     "text": [
      "<ipython-input-1-a8340ebeab30>:11: DeprecationWarning: \n",
      "Pyarrow will become a required dependency of pandas in the next major release of pandas (pandas 3.0),\n",
      "(to allow more performant data types, such as the Arrow string type, and better interoperability with other libraries)\n",
      "but was not found to be installed on your system.\n",
      "If this would cause problems for you,\n",
      "please provide us feedback at https://github.com/pandas-dev/pandas/issues/54466\n",
      "        \n",
      "  import pandas as pd\n",
      "[nltk_data] Downloading package stopwords to\n",
      "[nltk_data]     /home3/qcgj68/nltk_data...\n",
      "[nltk_data]   Package stopwords is already up-to-date!\n"
     ]
    }
   ],
   "source": [
    "import csv\n",
    "import nltk\n",
    "from nltk import sent_tokenize\n",
    "from nltk import word_tokenize\n",
    "from nltk.corpus import stopwords\n",
    "from string import punctuation\n",
    "from nltk import pos_tag\n",
    "from nltk.stem import WordNetLemmatizer  \n",
    "\n",
    "\n",
    "import pandas as pd\n",
    "import numpy as np\n",
    "import re\n",
    "import matplotlib.pyplot as plt\n",
    "import seaborn as sns\n",
    "\n",
    "from sklearn.utils import resample\n",
    "from sklearn.model_selection import train_test_split\n",
    "from sklearn.model_selection import cross_val_score\n",
    "from sklearn.naive_bayes import MultinomialNB\n",
    "from sklearn.neighbors import KNeighborsClassifier\n",
    "from sklearn.metrics import accuracy_score\n",
    "from sklearn.pipeline import make_pipeline\n",
    "from sklearn.feature_extraction.text import TfidfVectorizer\n",
    "from sklearn.metrics import confusion_matrix, accuracy_score, f1_score,precision_score,recall_score,classification_report\n",
    "from sklearn.metrics import classification_report\n",
    "\n",
    "import tensorflow as tf\n",
    "from tensorflow.keras.layers import Conv1D, GlobalMaxPooling1D, Dropout, Dense\n",
    "from tensorflow.keras import Sequential\n",
    "from tensorflow.keras.layers import Input, Embedding\n",
    "from tensorflow.keras.layers import TextVectorization\n",
    "from tensorflow.keras.optimizers import Adam\n",
    "from tensorflow.keras.callbacks import EarlyStopping\n",
    "from tensorflow.keras.initializers import Constant\n",
    "from tensorflow.keras.layers import LSTM, Bidirectional\n",
    "from sklearn.decomposition import TruncatedSVD\n",
    "import pickle\n",
    "\n",
    "\n",
    "nltk.download('stopwords')\n",
    "stopwords_english = stopwords.words('english')\n",
    "#except the words that turn over the meanings of the text\n",
    "stopwords_to_remove = [\"can't\",'no','nor','not','only','ain','aren','don', \"don't\", \"aren't\", 'couldn', \"couldn't\", 'didn', \"didn't\", 'doesn', \"doesn't\", 'hadn', \"hadn't\", 'hasn', \"hasn't\", 'haven', \"haven't\", 'isn', \"isn't\", 'ma', 'mightn', \"mightn't\", 'mustn', \"mustn't\", 'needn', \"needn't\", 'shan', \"shan't\", 'shouldn', \"shouldn't\", 'wasn', \"wasn't\", 'weren', \"weren't\", 'won', \"won't\", 'wouldn', \"wouldn't\"]\n",
    "stopwords_english = [word for word in stopwords_english if word not in stopwords_to_remove]"
   ]
  },
  {
   "cell_type": "code",
   "execution_count": 6,
   "metadata": {},
   "outputs": [
    {
     "name": "stdout",
     "output_type": "stream",
     "text": [
      "Score       0\n",
      "Summary    27\n",
      "Text        0\n",
      "dtype: int64\n"
     ]
    },
    {
     "name": "stderr",
     "output_type": "stream",
     "text": [
      "<ipython-input-6-c9ed2f980130>:6: SettingWithCopyWarning: \n",
      "A value is trying to be set on a copy of a slice from a DataFrame.\n",
      "Try using .loc[row_indexer,col_indexer] = value instead\n",
      "\n",
      "See the caveats in the documentation: https://pandas.pydata.org/pandas-docs/stable/user_guide/indexing.html#returning-a-view-versus-a-copy\n",
      "  food_reviews_uniq['Summary']=food_reviews_uniq['Summary'].astype(str)\n",
      "<ipython-input-6-c9ed2f980130>:7: SettingWithCopyWarning: \n",
      "A value is trying to be set on a copy of a slice from a DataFrame.\n",
      "Try using .loc[row_indexer,col_indexer] = value instead\n",
      "\n",
      "See the caveats in the documentation: https://pandas.pydata.org/pandas-docs/stable/user_guide/indexing.html#returning-a-view-versus-a-copy\n",
      "  food_reviews_uniq['Text']=food_reviews_uniq['Text'].astype(str)\n",
      "<ipython-input-6-c9ed2f980130>:8: SettingWithCopyWarning: \n",
      "A value is trying to be set on a copy of a slice from a DataFrame.\n",
      "Try using .loc[row_indexer,col_indexer] = value instead\n",
      "\n",
      "See the caveats in the documentation: https://pandas.pydata.org/pandas-docs/stable/user_guide/indexing.html#returning-a-view-versus-a-copy\n",
      "  food_reviews_uniq['Score'] = (food_reviews_uniq['Score']).astype('int')\n"
     ]
    },
    {
     "name": "stdout",
     "output_type": "stream",
     "text": [
      "No. of observations in each Score: Score\n",
      "5    240802\n",
      "4     53798\n",
      "1     34923\n",
      "3     28580\n",
      "2     19919\n",
      "Name: count, dtype: int64\n",
      "\n",
      "\n"
     ]
    },
    {
     "data": {
      "image/png": "[encoded data removed]",
      "text/plain": [
       "<Figure size 432x288 with 1 Axes>"
      ]
     },
     "metadata": {
      "needs_background": "light"
     },
     "output_type": "display_data"
    }
   ],
   "source": [
    "food_reviews = pd.read_csv('food_reviews.csv')\n",
    "print(food_reviews.isna().sum())   #find the missing values\n",
    "duplicates = food_reviews[food_reviews.duplicated()]\n",
    "sorted_duplicates = duplicates.sort_values(by=['Score','Summary','Text'])     \n",
    "food_reviews_uniq=food_reviews.drop_duplicates()   #delete the duplicates\n",
    "food_reviews_uniq['Summary']=food_reviews_uniq['Summary'].astype(str)   #change the type of variables\n",
    "food_reviews_uniq['Text']=food_reviews_uniq['Text'].astype(str)\n",
    "food_reviews_uniq['Score'] = (food_reviews_uniq['Score']).astype('int') \n",
    "\n",
    "score_counts = food_reviews_uniq['Score'].value_counts()    #check the number of observations in each score\n",
    "print(\"No. of observations in each Score:\",score_counts)\n",
    "print(\"\\n\")\n",
    "\n",
    "scores = food_reviews_uniq['Score']   #visualization\n",
    "plt.hist(scores, bins=5, color='skyblue', edgecolor='black', alpha=0.7)\n",
    "plt.title('Distribution of Scores')\n",
    "plt.xlabel('Score')\n",
    "plt.ylabel('Count')\n",
    "plt.show()"
   ]
  },
  {
   "cell_type": "code",
   "execution_count": 7,
   "metadata": {},
   "outputs": [
    {
     "data": {
      "text/html": [
       "<div>\n",
       "<style scoped>\n",
       "    .dataframe tbody tr th:only-of-type {\n",
       "        vertical-align: middle;\n",
       "    }\n",
       "\n",
       "    .dataframe tbody tr th {\n",
       "        vertical-align: top;\n",
       "    }\n",
       "\n",
       "    .dataframe thead th {\n",
       "        text-align: right;\n",
       "    }\n",
       "</style>\n",
       "<table border=\"1\" class=\"dataframe\">\n",
       "  <thead>\n",
       "    <tr style=\"text-align: right;\">\n",
       "      <th></th>\n",
       "      <th>Score</th>\n",
       "      <th>Summary</th>\n",
       "      <th>Text</th>\n",
       "    </tr>\n",
       "  </thead>\n",
       "  <tbody>\n",
       "    <tr>\n",
       "      <th>1358</th>\n",
       "      <td>5</td>\n",
       "      <td>Yum Yum Yum</td>\n",
       "      <td>After enjoying Craisens for years on hikes and...</td>\n",
       "    </tr>\n",
       "    <tr>\n",
       "      <th>557</th>\n",
       "      <td>4</td>\n",
       "      <td>Naturally (and artificially) refreshing</td>\n",
       "      <td>In an ongoing effort to avoid diet soda during...</td>\n",
       "    </tr>\n",
       "    <tr>\n",
       "      <th>1479</th>\n",
       "      <td>3</td>\n",
       "      <td>It's supposed to be the Cappachino cooler but ...</td>\n",
       "      <td>I've been drinking these things since they cam...</td>\n",
       "    </tr>\n",
       "    <tr>\n",
       "      <th>530</th>\n",
       "      <td>3</td>\n",
       "      <td>He loves them, but...</td>\n",
       "      <td>My dog LOVES these, but he throws up a few hou...</td>\n",
       "    </tr>\n",
       "    <tr>\n",
       "      <th>518</th>\n",
       "      <td>3</td>\n",
       "      <td>Average vodka in a premium bottle</td>\n",
       "      <td>I bought this for a halloween party being prim...</td>\n",
       "    </tr>\n",
       "    <tr>\n",
       "      <th>...</th>\n",
       "      <td>...</td>\n",
       "      <td>...</td>\n",
       "      <td>...</td>\n",
       "    </tr>\n",
       "    <tr>\n",
       "      <th>14</th>\n",
       "      <td>3</td>\n",
       "      <td>ups</td>\n",
       "      <td>UPS left time sensitive marked package and ano...</td>\n",
       "    </tr>\n",
       "    <tr>\n",
       "      <th>656</th>\n",
       "      <td>4</td>\n",
       "      <td>Not for Me</td>\n",
       "      <td>I broke a tooth on this item but, my dog loved...</td>\n",
       "    </tr>\n",
       "    <tr>\n",
       "      <th>1304</th>\n",
       "      <td>3</td>\n",
       "      <td>If you ever wondered what it must be like to b...</td>\n",
       "      <td>... then these strips are for you.  A friend o...</td>\n",
       "    </tr>\n",
       "    <tr>\n",
       "      <th>1620</th>\n",
       "      <td>3</td>\n",
       "      <td>A little bland but ...</td>\n",
       "      <td>...  for those of us counting Weight Watcher p...</td>\n",
       "    </tr>\n",
       "    <tr>\n",
       "      <th>884</th>\n",
       "      <td>1</td>\n",
       "      <td>I'd like to know who made this \"healthy request\"</td>\n",
       "      <td>Because I want to punch them in the groin. WOR...</td>\n",
       "    </tr>\n",
       "  </tbody>\n",
       "</table>\n",
       "<p>9955 rows × 3 columns</p>\n",
       "</div>"
      ],
      "text/plain": [
       "      Score                                            Summary  \\\n",
       "1358      5                                        Yum Yum Yum   \n",
       "557       4            Naturally (and artificially) refreshing   \n",
       "1479      3  It's supposed to be the Cappachino cooler but ...   \n",
       "530       3                              He loves them, but...   \n",
       "518       3                  Average vodka in a premium bottle   \n",
       "...     ...                                                ...   \n",
       "14        3                                                ups   \n",
       "656       4                                         Not for Me   \n",
       "1304      3  If you ever wondered what it must be like to b...   \n",
       "1620      3                             A little bland but ...   \n",
       "884       1   I'd like to know who made this \"healthy request\"   \n",
       "\n",
       "                                                   Text  \n",
       "1358  After enjoying Craisens for years on hikes and...  \n",
       "557   In an ongoing effort to avoid diet soda during...  \n",
       "1479  I've been drinking these things since they cam...  \n",
       "530   My dog LOVES these, but he throws up a few hou...  \n",
       "518   I bought this for a halloween party being prim...  \n",
       "...                                                 ...  \n",
       "14    UPS left time sensitive marked package and ano...  \n",
       "656   I broke a tooth on this item but, my dog loved...  \n",
       "1304  ... then these strips are for you.  A friend o...  \n",
       "1620  ...  for those of us counting Weight Watcher p...  \n",
       "884   Because I want to punch them in the groin. WOR...  \n",
       "\n",
       "[9955 rows x 3 columns]"
      ]
     },
     "metadata": {},
     "output_type": "display_data"
    },
    {
     "name": "stdout",
     "output_type": "stream",
     "text": [
      "\n",
      "\n",
      "No.of samples in each Score: Score\n",
      "5    1991\n",
      "4    1991\n",
      "3    1991\n",
      "1    1991\n",
      "2    1991\n",
      "Name: count, dtype: int64\n",
      "\n",
      "\n"
     ]
    },
    {
     "data": {
      "image/png": "[encoded data removed]",
      "text/plain": [
       "<Figure size 432x288 with 1 Axes>"
      ]
     },
     "metadata": {
      "needs_background": "light"
     },
     "output_type": "display_data"
    }
   ],
   "source": [
    "s1 = food_reviews_uniq[food_reviews_uniq[\"Score\"] == 1]     #resampling. \n",
    "s2 = food_reviews_uniq[food_reviews_uniq[\"Score\"] == 2]\n",
    "s3 = food_reviews_uniq[food_reviews_uniq[\"Score\"] == 3]\n",
    "s4 = food_reviews_uniq[food_reviews_uniq[\"Score\"] == 4]\n",
    "s5 = food_reviews_uniq[food_reviews_uniq[\"Score\"] == 5]\n",
    "\n",
    "#randomly select the same number of observations in each score\n",
    "s1_downsample = resample(s1, replace=True, n_samples=len(s2)//10, random_state=42).reset_index(drop=True)\n",
    "s2_downsample = resample(s2, replace=True, n_samples=len(s2)//10, random_state=42).reset_index(drop=True)\n",
    "s3_downsample = resample(s3, replace=True, n_samples=len(s2)//10, random_state=42).reset_index(drop=True)\n",
    "s4_downsample = resample(s4, replace=True, n_samples=len(s2)//10, random_state=42).reset_index(drop=True)\n",
    "s5_downsample = resample(s5, replace=True, n_samples=len(s2)//10, random_state=42).reset_index(drop=True)\n",
    "frames = [s1_downsample,s2_downsample, s3_downsample,s4_downsample,s5_downsample]\n",
    "result = pd.concat(frames)\n",
    "result = result.sample(frac = 1)   #random it\n",
    "display(result)\n",
    "print(\"\\n\")\n",
    "\n",
    "score_counts = result['Score'].value_counts()   #check the number of observations in each score of new sample set\n",
    "print(\"No.of samples in each Score:\",score_counts)\n",
    "print(\"\\n\")\n",
    "\n",
    "scores = result['Score']\n",
    "plt.hist(scores, bins=5, color='skyblue', edgecolor='black', alpha=0.7)\n",
    "plt.title('Distribution of Scores')\n",
    "plt.xlabel('Score')\n",
    "plt.ylabel('Count')\n",
    "plt.show()\n",
    "# display(food_reviews_uniq)\n"
   ]
  },
  {
   "cell_type": "code",
   "execution_count": 8,
   "metadata": {},
   "outputs": [
    {
     "data": {
      "text/html": [
       "<div>\n",
       "<style scoped>\n",
       "    .dataframe tbody tr th:only-of-type {\n",
       "        vertical-align: middle;\n",
       "    }\n",
       "\n",
       "    .dataframe tbody tr th {\n",
       "        vertical-align: top;\n",
       "    }\n",
       "\n",
       "    .dataframe thead th {\n",
       "        text-align: right;\n",
       "    }\n",
       "</style>\n",
       "<table border=\"1\" class=\"dataframe\">\n",
       "  <thead>\n",
       "    <tr style=\"text-align: right;\">\n",
       "      <th></th>\n",
       "      <th>Score</th>\n",
       "      <th>Summary+Text</th>\n",
       "    </tr>\n",
       "  </thead>\n",
       "  <tbody>\n",
       "    <tr>\n",
       "      <th>1358</th>\n",
       "      <td>5</td>\n",
       "      <td>Yum Yum Yum. After enjoying Craisens for years...</td>\n",
       "    </tr>\n",
       "    <tr>\n",
       "      <th>557</th>\n",
       "      <td>4</td>\n",
       "      <td>Naturally (and artificially) refreshing. In an...</td>\n",
       "    </tr>\n",
       "    <tr>\n",
       "      <th>1479</th>\n",
       "      <td>3</td>\n",
       "      <td>It's supposed to be the Cappachino cooler but ...</td>\n",
       "    </tr>\n",
       "    <tr>\n",
       "      <th>530</th>\n",
       "      <td>3</td>\n",
       "      <td>He loves them, but.... My dog LOVES these, but...</td>\n",
       "    </tr>\n",
       "    <tr>\n",
       "      <th>518</th>\n",
       "      <td>3</td>\n",
       "      <td>Average vodka in a premium bottle. I bought th...</td>\n",
       "    </tr>\n",
       "    <tr>\n",
       "      <th>...</th>\n",
       "      <td>...</td>\n",
       "      <td>...</td>\n",
       "    </tr>\n",
       "    <tr>\n",
       "      <th>14</th>\n",
       "      <td>3</td>\n",
       "      <td>ups. UPS left time sensitive marked package an...</td>\n",
       "    </tr>\n",
       "    <tr>\n",
       "      <th>656</th>\n",
       "      <td>4</td>\n",
       "      <td>Not for Me. I broke a tooth on this item but, ...</td>\n",
       "    </tr>\n",
       "    <tr>\n",
       "      <th>1304</th>\n",
       "      <td>3</td>\n",
       "      <td>If you ever wondered what it must be like to b...</td>\n",
       "    </tr>\n",
       "    <tr>\n",
       "      <th>1620</th>\n",
       "      <td>3</td>\n",
       "      <td>A little bland but .... ...  for those of us c...</td>\n",
       "    </tr>\n",
       "    <tr>\n",
       "      <th>884</th>\n",
       "      <td>1</td>\n",
       "      <td>I'd like to know who made this \"healthy reques...</td>\n",
       "    </tr>\n",
       "  </tbody>\n",
       "</table>\n",
       "<p>9955 rows × 2 columns</p>\n",
       "</div>"
      ],
      "text/plain": [
       "      Score                                       Summary+Text\n",
       "1358      5  Yum Yum Yum. After enjoying Craisens for years...\n",
       "557       4  Naturally (and artificially) refreshing. In an...\n",
       "1479      3  It's supposed to be the Cappachino cooler but ...\n",
       "530       3  He loves them, but.... My dog LOVES these, but...\n",
       "518       3  Average vodka in a premium bottle. I bought th...\n",
       "...     ...                                                ...\n",
       "14        3  ups. UPS left time sensitive marked package an...\n",
       "656       4  Not for Me. I broke a tooth on this item but, ...\n",
       "1304      3  If you ever wondered what it must be like to b...\n",
       "1620      3  A little bland but .... ...  for those of us c...\n",
       "884       1  I'd like to know who made this \"healthy reques...\n",
       "\n",
       "[9955 rows x 2 columns]"
      ]
     },
     "execution_count": 8,
     "metadata": {},
     "output_type": "execute_result"
    }
   ],
   "source": [
    "result['Summary+Text']=result[['Summary','Text']].agg('. '.join,axis=1)  #combine summary and text together, split by '.'\n",
    "# food_reviews_uniq.head()\n",
    "result=result[['Score','Summary+Text']]\n",
    "result"
   ]
  },
  {
   "cell_type": "code",
   "execution_count": 9,
   "metadata": {},
   "outputs": [
    {
     "data": {
      "text/html": [
       "<div>\n",
       "<style scoped>\n",
       "    .dataframe tbody tr th:only-of-type {\n",
       "        vertical-align: middle;\n",
       "    }\n",
       "\n",
       "    .dataframe tbody tr th {\n",
       "        vertical-align: top;\n",
       "    }\n",
       "\n",
       "    .dataframe thead th {\n",
       "        text-align: right;\n",
       "    }\n",
       "</style>\n",
       "<table border=\"1\" class=\"dataframe\">\n",
       "  <thead>\n",
       "    <tr style=\"text-align: right;\">\n",
       "      <th></th>\n",
       "      <th>Score</th>\n",
       "      <th>Summary+Text</th>\n",
       "      <th>cleaned_text</th>\n",
       "    </tr>\n",
       "  </thead>\n",
       "  <tbody>\n",
       "    <tr>\n",
       "      <th>1358</th>\n",
       "      <td>5</td>\n",
       "      <td>Yum Yum Yum. After enjoying Craisens for years...</td>\n",
       "      <td>yum yum yum enjoying craisens years hikes oatm...</td>\n",
       "    </tr>\n",
       "    <tr>\n",
       "      <th>557</th>\n",
       "      <td>4</td>\n",
       "      <td>Naturally (and artificially) refreshing. In an...</td>\n",
       "      <td>naturally artificially refreshing ongoing effo...</td>\n",
       "    </tr>\n",
       "    <tr>\n",
       "      <th>1479</th>\n",
       "      <td>3</td>\n",
       "      <td>It's supposed to be the Cappachino cooler but ...</td>\n",
       "      <td>supposed cappachino cooler changed something i...</td>\n",
       "    </tr>\n",
       "    <tr>\n",
       "      <th>530</th>\n",
       "      <td>3</td>\n",
       "      <td>He loves them, but.... My dog LOVES these, but...</td>\n",
       "      <td>loves dog loves throws hours eating thought sy...</td>\n",
       "    </tr>\n",
       "    <tr>\n",
       "      <th>518</th>\n",
       "      <td>3</td>\n",
       "      <td>Average vodka in a premium bottle. I bought th...</td>\n",
       "      <td>average vodka premium bottle bought halloween ...</td>\n",
       "    </tr>\n",
       "    <tr>\n",
       "      <th>...</th>\n",
       "      <td>...</td>\n",
       "      <td>...</td>\n",
       "      <td>...</td>\n",
       "    </tr>\n",
       "    <tr>\n",
       "      <th>14</th>\n",
       "      <td>3</td>\n",
       "      <td>ups. UPS left time sensitive marked package an...</td>\n",
       "      <td>ups ups left time sensitive marked package ano...</td>\n",
       "    </tr>\n",
       "    <tr>\n",
       "      <th>656</th>\n",
       "      <td>4</td>\n",
       "      <td>Not for Me. I broke a tooth on this item but, ...</td>\n",
       "      <td>not broke tooth item dog loved</td>\n",
       "    </tr>\n",
       "    <tr>\n",
       "      <th>1304</th>\n",
       "      <td>3</td>\n",
       "      <td>If you ever wondered what it must be like to b...</td>\n",
       "      <td>ever wondered must like cannibal strips friend...</td>\n",
       "    </tr>\n",
       "    <tr>\n",
       "      <th>1620</th>\n",
       "      <td>3</td>\n",
       "      <td>A little bland but .... ...  for those of us c...</td>\n",
       "      <td>little bland us counting weight watcher points...</td>\n",
       "    </tr>\n",
       "    <tr>\n",
       "      <th>884</th>\n",
       "      <td>1</td>\n",
       "      <td>I'd like to know who made this \"healthy reques...</td>\n",
       "      <td>id like know made healthy request want punch g...</td>\n",
       "    </tr>\n",
       "  </tbody>\n",
       "</table>\n",
       "<p>9955 rows × 3 columns</p>\n",
       "</div>"
      ],
      "text/plain": [
       "      Score                                       Summary+Text  \\\n",
       "1358      5  Yum Yum Yum. After enjoying Craisens for years...   \n",
       "557       4  Naturally (and artificially) refreshing. In an...   \n",
       "1479      3  It's supposed to be the Cappachino cooler but ...   \n",
       "530       3  He loves them, but.... My dog LOVES these, but...   \n",
       "518       3  Average vodka in a premium bottle. I bought th...   \n",
       "...     ...                                                ...   \n",
       "14        3  ups. UPS left time sensitive marked package an...   \n",
       "656       4  Not for Me. I broke a tooth on this item but, ...   \n",
       "1304      3  If you ever wondered what it must be like to b...   \n",
       "1620      3  A little bland but .... ...  for those of us c...   \n",
       "884       1  I'd like to know who made this \"healthy reques...   \n",
       "\n",
       "                                           cleaned_text  \n",
       "1358  yum yum yum enjoying craisens years hikes oatm...  \n",
       "557   naturally artificially refreshing ongoing effo...  \n",
       "1479  supposed cappachino cooler changed something i...  \n",
       "530   loves dog loves throws hours eating thought sy...  \n",
       "518   average vodka premium bottle bought halloween ...  \n",
       "...                                                 ...  \n",
       "14    ups ups left time sensitive marked package ano...  \n",
       "656                      not broke tooth item dog loved  \n",
       "1304  ever wondered must like cannibal strips friend...  \n",
       "1620  little bland us counting weight watcher points...  \n",
       "884   id like know made healthy request want punch g...  \n",
       "\n",
       "[9955 rows x 3 columns]"
      ]
     },
     "execution_count": 9,
     "metadata": {},
     "output_type": "execute_result"
    }
   ],
   "source": [
    "def convert_to_lowercase(text): # Convert all characters to lowercase\n",
    "    return text.lower()\n",
    "def cleaning(text,stopwords):\n",
    "    cl_text=[]\n",
    "    t=str(convert_to_lowercase(text))\n",
    "    t = re.sub(r'([.,:;?!-])\\1+', r'\\1', t)   \n",
    "    t.replace(\".\",\". \")\n",
    "    t.replace(\"<a>\",\"\")  #remove the tags\n",
    "    t.replace(\"<a />\",\"\")\n",
    "    t.replace(\"<br>\",\"\")\n",
    "    t.replace(\"<br />\",\"\")\n",
    "    t=re.sub(r'href=\"https?://\\S+\"'+'|'+r'href=\"www\\.\\S+\"',',',t)   #remove url links and webpages\n",
    "    t=re.sub(r'\\b[A-Za-z0-9._%+-]+@[A-Za-z0-9.-]+\\.[A-Z|a-z]{2,}\\b',',',t)   #remove e-mail addresses\n",
    "    cleaned_text= re.sub(r'[^\\w\\s\\'.,:;?!-]', '', t)   #remove strange punctuations\n",
    "    regex = \"[^a-zA-Z\\s]\"   #select only texts\n",
    "    new_text = re.sub(regex,\"\", cleaned_text)\n",
    "    tokens = word_tokenize(new_text)   #word-tokenization\n",
    "    accepted_tokens = []\n",
    "    for token in tokens:\n",
    "        if(token not in stopwords):   #remove stopwords\n",
    "            accepted_tokens.append(token)\n",
    "    result = \" \".join(accepted_tokens)\n",
    "    return result\n",
    "result['cleaned_text'] = result['Summary+Text'].apply(cleaning,stopwords=stopwords_english)  #add a new col for cleaned text\n",
    "result"
   ]
  },
  {
   "cell_type": "code",
   "execution_count": 10,
   "metadata": {},
   "outputs": [
    {
     "name": "stdout",
     "output_type": "stream",
     "text": [
      "Total samples:\t\t9955\n",
      "Training samples:\t6968 (69.99%)\n",
      "Test samples:\t\t2987 (30.01%)\n"
     ]
    }
   ],
   "source": [
    "train, test = train_test_split(result, test_size = 0.30, random_state = 42)   #split the sample set \n",
    "X_train = train[\"cleaned_text\"].values # Get the documents for training\n",
    "Y_train = train[\"Score\"].values # Get the labels for training\n",
    "X_test = test[\"cleaned_text\"].values # Get the documents for testing\n",
    "Y_test = test[\"Score\"].values # Get the labels for testing\n",
    "\n",
    "no_of_training_samples = len(X_train)\n",
    "no_of_test_samples = len(X_test)\n",
    "total_samples = no_of_training_samples+no_of_test_samples\n",
    "print(\"Total samples:\\t\\t%4d\" % total_samples)\n",
    "print(\"Training samples:\\t%4d (%2.2f%s)\" %\n",
    "(no_of_training_samples,(no_of_training_samples/total_samples)*100,\"%\"))\n",
    "print(\"Test samples:\\t\\t%4d (%2.2f%s)\" %\n",
    "(no_of_test_samples,(no_of_test_samples/total_samples)*100,\"%\"))\n"
   ]
  },
  {
   "cell_type": "markdown",
   "metadata": {
    "deletable": false,
    "editable": false,
    "nbgrader": {
     "cell_type": "markdown",
     "checksum": "cee84be8ff5d30b3cc777f43b92b5b69",
     "grade": false,
     "grade_id": "cell-b691a7bc111d2ca5",
     "locked": true,
     "schema_version": 3,
     "solution": false,
     "task": false
    }
   },
   "source": [
    "## Implementation - Task 2\n",
    "Implement a Naïve Bayes model for predicting the rating of a food review. Train your model on the training set and test it on the test set. Use an appropriate text representation. (**5%**)"
   ]
  },
  {
   "cell_type": "code",
   "execution_count": 8,
   "metadata": {
    "deletable": false,
    "nbgrader": {
     "cell_type": "code",
     "checksum": "638739c81d3d084fbcc8233bbecb6b02",
     "grade": true,
     "grade_id": "cell-c7228a828210126a",
     "locked": false,
     "points": 5,
     "schema_version": 3,
     "solution": true,
     "task": false
    }
   },
   "outputs": [
    {
     "name": "stdout",
     "output_type": "stream",
     "text": [
      "Accuracy: 0.47840642785403414\n",
      "\n",
      "\n"
     ]
    },
    {
     "data": {
      "image/png": "[encoded data removed]",
      "text/plain": [
       "<Figure size 432x288 with 2 Axes>"
      ]
     },
     "metadata": {},
     "output_type": "display_data"
    },
    {
     "name": "stdout",
     "output_type": "stream",
     "text": [
      "Accuracy:\t0.478406\n",
      "F1-score:\t0.482742\n",
      "Precision:\t0.486660\n",
      "Recall:\t\t0.480068\n",
      "\n",
      "Classification performance:\n",
      "              precision    recall  f1-score   support\n",
      "\n",
      "           1       0.62      0.57      0.59       595\n",
      "           2       0.39      0.41      0.40       602\n",
      "           3       0.41      0.40      0.41       620\n",
      "           4       0.40      0.45      0.42       602\n",
      "           5       0.61      0.57      0.59       568\n",
      "\n",
      "    accuracy                           0.48      2987\n",
      "   macro avg       0.49      0.48      0.48      2987\n",
      "weighted avg       0.48      0.48      0.48      2987\n",
      "\n"
     ]
    }
   ],
   "source": [
    "bayes_model = make_pipeline(TfidfVectorizer(), MultinomialNB())\n",
    "bayes_model.fit(X_train, Y_train) # Train the model on the training data\n",
    "predicted_categories_bayes = bayes_model.predict(X_test) # Predict the categories of the test data\n",
    "accuracy = bayes_model.score(X_test, Y_test)\n",
    "print(\"Accuracy:\", accuracy)\n",
    "print(\"\\n\")\n",
    "\n",
    "predicted_all_models={}   #create a list for the outcome of all models\n",
    "predicted_all_models['bayes_model']=predicted_categories_bayes\n",
    "all_models={}   #create a dictionary for the confusion matrix for all models\n",
    "\n",
    "sns.set() # use seaborn plotting style\n",
    "# Plot the confusion matrix\n",
    "mat_bayes = confusion_matrix(Y_test, predicted_categories_bayes)\n",
    "all_models['bayes_model']=mat_bayes\n",
    "sns.heatmap(mat_bayes.T, square = True, annot=True, fmt = \"d\",\n",
    "           xticklabels=['1','2','3','4','5'],\n",
    "           yticklabels=['1','2','3','4','5'])\n",
    "plt.xlabel(\"True label\")\n",
    "plt.ylabel(\"Predicted label\")\n",
    "plt.show()\n",
    "# Compute and print classification performance metrics\n",
    "print(\"Accuracy:\\t%f\" % accuracy_score(Y_test, predicted_categories_bayes))\n",
    "print(\"F1-score:\\t%f\" % f1_score(Y_test, predicted_categories_bayes, average='macro'))\n",
    "print(\"Precision:\\t%f\" % precision_score(Y_test, predicted_categories_bayes, average='macro'))\n",
    "print(\"Recall:\\t\\t%f\" % recall_score(Y_test, predicted_categories_bayes, average='macro'))\n",
    "print(\"\\nClassification performance:\\n%s\" % classification_report(Y_test, predicted_categories_bayes))"
   ]
  },
  {
   "cell_type": "markdown",
   "metadata": {
    "deletable": false,
    "editable": false,
    "nbgrader": {
     "cell_type": "markdown",
     "checksum": "3a8672a0a32389c7076c73d1de3acfb1",
     "grade": false,
     "grade_id": "cell-bd3fe708de79e951",
     "locked": true,
     "schema_version": 3,
     "solution": false,
     "task": false
    }
   },
   "source": [
    "## Implementation - Task 3\n",
    "Implement a k-Nearest Neighbours model for predicting the rating of a food review. Train your model on the training set and test it on the test set. Use an appropriate text representation. You must select the best k by examining the performance of the model for $k \\in \\{1,3,5,7\\}$, using an appropriate cross-validation approach. Create a plot for k vs. classification performance to justify your choice. (**10%**)"
   ]
  },
  {
   "cell_type": "code",
   "execution_count": 9,
   "metadata": {
    "deletable": false,
    "nbgrader": {
     "cell_type": "code",
     "checksum": "b7c5809dc4f4de2b111845abdcf40ddf",
     "grade": true,
     "grade_id": "cell-e566d393c7fac970",
     "locked": false,
     "points": 10,
     "schema_version": 3,
     "solution": true,
     "task": false
    }
   },
   "outputs": [
    {
     "name": "stdout",
     "output_type": "stream",
     "text": [
      "Best k: 7\n"
     ]
    },
    {
     "data": {
      "image/png": "[encoded data removed]",
      "text/plain": [
       "<Figure size 432x288 with 1 Axes>"
      ]
     },
     "metadata": {},
     "output_type": "display_data"
    }
   ],
   "source": [
    "k_list = [1, 3, 5, 7]\n",
    "cv_scores = []\n",
    "\n",
    "for k in k_list:\n",
    "    model = make_pipeline(TfidfVectorizer(), KNeighborsClassifier(n_neighbors=k))\n",
    "    scores = cross_val_score(model, X_train, Y_train, cv=5, scoring='f1_macro')\n",
    "    cv_scores.append(scores.mean())\n",
    "best_k = k_list[np.argmax(cv_scores)]\n",
    "print(\"Best k:\", best_k)\n",
    "\n",
    "\n",
    "plt.plot(k_list, cv_scores)\n",
    "plt.xlabel('k')\n",
    "plt.ylabel('F1 Score')\n",
    "plt.title('Cross Validation Scores')\n",
    "plt.show()\n"
   ]
  },
  {
   "cell_type": "code",
   "execution_count": 10,
   "metadata": {},
   "outputs": [
    {
     "data": {
      "image/png": "[encoded data removed]",
      "text/plain": [
       "<Figure size 432x288 with 2 Axes>"
      ]
     },
     "metadata": {},
     "output_type": "display_data"
    },
    {
     "name": "stdout",
     "output_type": "stream",
     "text": [
      "\n",
      "\n",
      "Accuracy:\t0.318045\n",
      "F1-score:\t0.315058\n",
      "Precision:\t0.319271\n",
      "Recall:\t\t0.318772\n",
      "\n",
      "Classification performance:\n",
      "              precision    recall  f1-score   support\n",
      "\n",
      "           1       0.37      0.49      0.42       595\n",
      "           2       0.27      0.31      0.29       602\n",
      "           3       0.27      0.26      0.27       620\n",
      "           4       0.28      0.22      0.25       602\n",
      "           5       0.41      0.32      0.35       568\n",
      "\n",
      "    accuracy                           0.32      2987\n",
      "   macro avg       0.32      0.32      0.32      2987\n",
      "weighted avg       0.32      0.32      0.31      2987\n",
      "\n"
     ]
    }
   ],
   "source": [
    "knn_model = make_pipeline(TfidfVectorizer(), KNeighborsClassifier(n_neighbors=best_k))\n",
    "knn_model.fit(X_train, Y_train)\n",
    "predicted_test_k = knn_model.predict(X_test)\n",
    "\n",
    "sns.set() # use seaborn plotting style\n",
    "# Plot the confusion matrix\n",
    "mat_knn = confusion_matrix(Y_test, predicted_test_k)\n",
    "all_models['knn_model']=mat_knn\n",
    "predicted_all_models['knn_model']=predicted_test_k\n",
    "sns.heatmap(mat_knn.T, square = True, annot=True, fmt = \"d\",\n",
    "            xticklabels=['1','2','3','4','5'],\n",
    "            yticklabels=['1','2','3','4','5'])\n",
    "plt.xlabel(\"True label\")\n",
    "plt.ylabel(\"Predicted label\")\n",
    "plt.show()\n",
    "print(\"\\n\")\n",
    "# Compute and print classification performance metrics\n",
    "print(\"Accuracy:\\t%f\" % accuracy_score(Y_test, predicted_test_k))\n",
    "print(\"F1-score:\\t%f\" % f1_score(Y_test, predicted_test_k, average='macro'))\n",
    "print(\"Precision:\\t%f\" % precision_score(Y_test, predicted_test_k, average='macro'))\n",
    "print(\"Recall:\\t\\t%f\" % recall_score(Y_test, predicted_test_k, average='macro'))\n",
    "print(\"\\nClassification performance:\\n%s\" % classification_report(Y_test, predicted_test_k))"
   ]
  },
  {
   "cell_type": "markdown",
   "metadata": {
    "deletable": false,
    "editable": false,
    "nbgrader": {
     "cell_type": "markdown",
     "checksum": "43ad334a0b661041421fbde0c35614c1",
     "grade": false,
     "grade_id": "cell-ceb568d7b9979383",
     "locked": true,
     "schema_version": 3,
     "solution": false,
     "task": false
    }
   },
   "source": [
    "## Implementation - Task 4\n",
    "Implement a Convolutional Neural Network (CNN) model for predicting the rating of a food review. The model must have at least two convolutional layers. Train your model on the training set and test it on the test set. Use an appropriate text representation. (**13%**)"
   ]
  },
  {
   "cell_type": "code",
   "execution_count": 11,
   "metadata": {
    "deletable": false,
    "nbgrader": {
     "cell_type": "code",
     "checksum": "bc79d3616790883ed0539f3416cb92ad",
     "grade": true,
     "grade_id": "cell-8062f67e02d4c61f",
     "locked": false,
     "points": 13,
     "schema_version": 3,
     "solution": true,
     "task": false
    }
   },
   "outputs": [
    {
     "name": "stdout",
     "output_type": "stream",
     "text": [
      "Model: \"MyCNN\"\n",
      "_________________________________________________________________\n",
      " Layer (type)                Output Shape              Param #   \n",
      "=================================================================\n",
      " text_vectorization (TextVe  (None, 200)               0         \n",
      " ctorization)                                                    \n",
      "                                                                 \n",
      " embedding (Embedding)       (None, 200, 120)          600000    \n",
      "                                                                 \n",
      " conv1d (Conv1D)             (None, 196, 96)           57696     \n",
      "                                                                 \n",
      " conv1d_1 (Conv1D)           (None, 192, 36)           17316     \n",
      "                                                                 \n",
      " global_max_pooling1d (Glob  (None, 36)                0         \n",
      " alMaxPooling1D)                                                 \n",
      "                                                                 \n",
      " dropout (Dropout)           (None, 36)                0         \n",
      "                                                                 \n",
      " dense (Dense)               (None, 6)                 222       \n",
      "                                                                 \n",
      "=================================================================\n",
      "Total params: 675234 (2.58 MB)\n",
      "Trainable params: 675234 (2.58 MB)\n",
      "Non-trainable params: 0 (0.00 Byte)\n",
      "_________________________________________________________________\n",
      "Epoch 1/50\n",
      "1255/1255 [==============================] - 23s 17ms/step - loss: 1.4878 - accuracy: 0.3282 - val_loss: 1.3064 - val_accuracy: 0.4189\n",
      "Epoch 2/50\n",
      "1255/1255 [==============================] - 21s 17ms/step - loss: 1.1536 - accuracy: 0.5036 - val_loss: 1.3025 - val_accuracy: 0.4060\n",
      "Epoch 3/50\n",
      "1255/1255 [==============================] - 21s 17ms/step - loss: 0.8412 - accuracy: 0.6572 - val_loss: 1.3102 - val_accuracy: 0.4376\n",
      "Epoch 4/50\n",
      "1255/1255 [==============================] - 21s 16ms/step - loss: 0.5651 - accuracy: 0.7911 - val_loss: 1.6225 - val_accuracy: 0.4419\n",
      "Epoch 5/50\n",
      "1255/1255 [==============================] - 20s 16ms/step - loss: 0.3679 - accuracy: 0.8673 - val_loss: 1.9418 - val_accuracy: 0.4505\n",
      "Epoch 6/50\n",
      "1255/1255 [==============================] - 20s 16ms/step - loss: 0.2386 - accuracy: 0.9140 - val_loss: 2.2376 - val_accuracy: 0.4161\n",
      "Epoch 7/50\n",
      "1255/1255 [==============================] - 20s 16ms/step - loss: 0.1764 - accuracy: 0.9389 - val_loss: 2.5530 - val_accuracy: 0.4247\n",
      "Epoch 8/50\n",
      "1255/1255 [==============================] - 20s 16ms/step - loss: 0.1293 - accuracy: 0.9568 - val_loss: 2.9297 - val_accuracy: 0.4390\n",
      "Epoch 9/50\n",
      "1255/1255 [==============================] - 19s 15ms/step - loss: 0.1314 - accuracy: 0.9568 - val_loss: 3.0487 - val_accuracy: 0.4204\n"
     ]
    }
   ],
   "source": [
    "MAX_VOCABULARY_WORDS = 5000 # The maximum number of words to be used (most frequent)\n",
    "MAX_SEQUENCE_LENGTH = 200 # Number of words in each text. Sequence length to pad the outputs to.\n",
    "EMBEDDING_DIM = 120 # Size of the word embedding to be used\n",
    "# Create a preprocessing layer which maps text features to integer sequences\n",
    "vectorize_layer = TextVectorization(\n",
    "    max_tokens=MAX_VOCABULARY_WORDS, # Maximum size of the vocabulary for this layer\n",
    "    output_mode='int', # Represent each word in the vocabulary with an integer\n",
    "    output_sequence_length=MAX_SEQUENCE_LENGTH) # Pad the sequence length to size MAX_SEQUENCE_LENGTH\n",
    "vectorize_layer.adapt(X_train) # Computes a vocabulary of string terms from tokens in a dataset.\n",
    "vocabulary = vectorize_layer.get_vocabulary() # Get the vocabulary\n",
    "\n",
    "# cnn\n",
    "model_cnn = Sequential(name=\"MyCNN\")\n",
    "model_cnn.add(Input(shape=(1,), dtype=tf.string))\n",
    "model_cnn.add(vectorize_layer)\n",
    "model_cnn.add(Embedding(input_dim=MAX_VOCABULARY_WORDS, \n",
    "                    output_dim=EMBEDDING_DIM, \n",
    "                    input_length=MAX_SEQUENCE_LENGTH))\n",
    "model_cnn.add(Conv1D(filters=96, kernel_size=5, activation='relu'))\n",
    "model_cnn.add(Conv1D(filters=36, kernel_size=5, activation='relu'))\n",
    "model_cnn.add(GlobalMaxPooling1D())\n",
    "model_cnn.add(Dropout(0.2))\n",
    "model_cnn.add(Dense(6, activation='softmax'))\n",
    "\n",
    "# summary\n",
    "model_cnn.summary()\n",
    "EPOCHS = 50\n",
    "BATCH_SIZE = 5\n",
    "LEARNING_RATE = 0.001\n",
    "\n",
    "opt = Adam(learning_rate=LEARNING_RATE)\n",
    "\n",
    "model_cnn.compile(loss='sparse_categorical_crossentropy', optimizer=opt, metrics=['accuracy'])\n",
    "early = EarlyStopping(monitor=\"val_accuracy\",patience=4,restore_best_weights=True,mode=\"auto\")\n",
    "\n",
    "history = model_cnn.fit(X_train, Y_train, \n",
    "                    epochs=EPOCHS, batch_size=BATCH_SIZE,\n",
    "                    validation_split=0.1, \n",
    "                    callbacks=[early]\n",
    "                   )\n"
   ]
  },
  {
   "cell_type": "code",
   "execution_count": 12,
   "metadata": {},
   "outputs": [
    {
     "data": {
      "image/png": "[encoded data removed]",
      "text/plain": [
       "<Figure size 432x288 with 1 Axes>"
      ]
     },
     "metadata": {
      "needs_background": "light"
     },
     "output_type": "display_data"
    },
    {
     "data": {
      "image/png": "[encoded data removed]",
      "text/plain": [
       "<Figure size 432x288 with 1 Axes>"
      ]
     },
     "metadata": {
      "needs_background": "light"
     },
     "output_type": "display_data"
    }
   ],
   "source": [
    "plt.title('Loss')\n",
    "plt.plot(history.history['loss'], label='training')\n",
    "plt.plot(history.history['val_loss'], label='validation')\n",
    "plt.ylim(bottom=0.0)\n",
    "plt.legend()\n",
    "plt.show();\n",
    "\n",
    "plt.title('Accuracy')\n",
    "plt.plot(history.history['accuracy'], label='training')\n",
    "plt.plot(history.history['val_accuracy'], label='validation')\n",
    "plt.ylim(bottom=0.0,top=1.01)\n",
    "plt.legend()\n",
    "plt.show()"
   ]
  },
  {
   "cell_type": "code",
   "execution_count": 14,
   "metadata": {},
   "outputs": [
    {
     "name": "stdout",
     "output_type": "stream",
     "text": [
      "94/94 [==============================] - 1s 15ms/step\n"
     ]
    },
    {
     "data": {
      "image/png": "[encoded data removed]",
      "text/plain": [
       "<Figure size 432x288 with 2 Axes>"
      ]
     },
     "metadata": {},
     "output_type": "display_data"
    },
    {
     "name": "stdout",
     "output_type": "stream",
     "text": [
      "\n",
      "\n",
      "              precision    recall  f1-score   support\n",
      "\n",
      "           1       0.55      0.53      0.54       588\n",
      "           2       0.41      0.42      0.42       599\n",
      "           3       0.37      0.30      0.33       614\n",
      "           4       0.36      0.44      0.40       580\n",
      "           5       0.57      0.58      0.58       606\n",
      "\n",
      "    accuracy                           0.45      2987\n",
      "   macro avg       0.45      0.45      0.45      2987\n",
      "weighted avg       0.45      0.45      0.45      2987\n",
      "\n"
     ]
    }
   ],
   "source": [
    "# Use model to predict the class of the documents in the test set\n",
    "pred_cnn = model_cnn.predict(X_test) \n",
    "predicted_labels_cnn = np.argmax(pred_cnn, axis=1)\n",
    "\n",
    "sns.set() # use seaborn plotting style\n",
    "# Plot the confusion matrix\n",
    "mat_cnn = confusion_matrix(Y_test, predicted_labels_cnn)\n",
    "all_models['model_cnn']=mat_cnn\n",
    "predicted_all_models['model_cnn']=predicted_labels_cnn\n",
    "sns.heatmap(mat_cnn.T, square = True, annot=True, fmt = \"d\",\n",
    "            xticklabels=['1','2','3','4','5'],\n",
    "            yticklabels=['1','2','3','4','5'])\n",
    "plt.xlabel(\"True label\")\n",
    "plt.ylabel(\"Predicted label\")\n",
    "plt.show()\n",
    "print(\"\\n\")\n",
    "\n",
    "print(classification_report(Y_test,predicted_labels_cnn))"
   ]
  },
  {
   "cell_type": "markdown",
   "metadata": {
    "deletable": false,
    "editable": false,
    "nbgrader": {
     "cell_type": "markdown",
     "checksum": "74843fe33a4f86a21469871aac52bb90",
     "grade": false,
     "grade_id": "cell-a985e9ca1140281d",
     "locked": true,
     "schema_version": 3,
     "solution": false,
     "task": false
    }
   },
   "source": [
    "## Implementation - Task 5\n",
    "Implement a Recurrent Neural Network (RNN) or a Long Short-Term Memory (LSTM) model for predicting the rating of a food review. The model must have at least two RNN/LSTM layers. Train your model on the training set and test it on the test set. Use an appropriate text representation. (**12%**)"
   ]
  },
  {
   "cell_type": "code",
   "execution_count": 50,
   "metadata": {
    "deletable": false,
    "nbgrader": {
     "cell_type": "code",
     "checksum": "eb7179dcc099d3d51db8e0d4d4c53c7b",
     "grade": true,
     "grade_id": "cell-76f081948cba4b02",
     "locked": false,
     "points": 12,
     "schema_version": 3,
     "solution": true,
     "task": false
    }
   },
   "outputs": [],
   "source": [
    "MAX_VOCABULARY_WORDS = 4000\n",
    "MAX_SEQUENCE_LENGTH = 100\n",
    "\n",
    "# Tokenize and pad sequences\n",
    "tokenizer = tf.keras.preprocessing.text.Tokenizer()\n",
    "tokenizer.fit_on_texts(X_train)\n",
    "\n",
    "tokenizer.num_words = MAX_VOCABULARY_WORDS\n",
    "#padding training set and testing set\n",
    "X_train_seq = tokenizer.texts_to_sequences(X_train)\n",
    "X_train_padded = tf.keras.preprocessing.sequence.pad_sequences(X_train_seq, maxlen=MAX_SEQUENCE_LENGTH)\n",
    "\n",
    "X_test_seq = tokenizer.texts_to_sequences(X_test)\n",
    "X_test_padded = tf.keras.preprocessing.sequence.pad_sequences(X_test_seq, maxlen=MAX_SEQUENCE_LENGTH)\n",
    "\n",
    "# Create embedding matrix\n",
    "vocabulary_size = min(MAX_VOCABULARY_WORDS, len(tokenizer.word_index) + 1)\n",
    "embedding_dim = 100\n"
   ]
  },
  {
   "cell_type": "code",
   "execution_count": 15,
   "metadata": {},
   "outputs": [],
   "source": [
    "glove_path = 'glove.6B.100d.txt'  #download pretrained word embeddings\n",
    "embeddings_index = {}\n",
    "with open(glove_path, encoding='utf-8') as f:\n",
    "    for line in f:\n",
    "        values = line.split()\n",
    "        word = values[0]\n",
    "        coefs = np.asarray(values[1:], dtype='float32')\n",
    "        embeddings_index[word] = coefs\n",
    "\n",
    "embedding_matrix = np.zeros((vocabulary_size, embedding_dim))\n",
    "for word, i in tokenizer.word_index.items():\n",
    "    if i >= MAX_VOCABULARY_WORDS:\n",
    "        continue\n",
    "    embedding_vector = embeddings_index.get(word)\n",
    "    if embedding_vector is not None:\n",
    "        embedding_matrix[i] = embedding_vector"
   ]
  },
  {
   "cell_type": "code",
   "execution_count": 41,
   "metadata": {},
   "outputs": [
    {
     "name": "stdout",
     "output_type": "stream",
     "text": [
      "Epoch 1/50\n",
      "1255/1255 [==============================] - 100s 76ms/step - loss: 1.4136 - accuracy: 0.3709 - val_loss: 1.3535 - val_accuracy: 0.4017\n",
      "Epoch 2/50\n",
      "1255/1255 [==============================] - 94s 75ms/step - loss: 1.2564 - accuracy: 0.4516 - val_loss: 1.2955 - val_accuracy: 0.4448\n",
      "Epoch 3/50\n",
      "1255/1255 [==============================] - 94s 75ms/step - loss: 1.1661 - accuracy: 0.4988 - val_loss: 1.2306 - val_accuracy: 0.4864\n",
      "Epoch 4/50\n",
      "1255/1255 [==============================] - 94s 75ms/step - loss: 1.0784 - accuracy: 0.5382 - val_loss: 1.2224 - val_accuracy: 0.4907\n",
      "Epoch 5/50\n",
      "1255/1255 [==============================] - 94s 75ms/step - loss: 0.9807 - accuracy: 0.5894 - val_loss: 1.2433 - val_accuracy: 0.5050\n",
      "Epoch 6/50\n",
      "1255/1255 [==============================] - 94s 75ms/step - loss: 0.8622 - accuracy: 0.6402 - val_loss: 1.3134 - val_accuracy: 0.4792\n",
      "Epoch 7/50\n",
      "1255/1255 [==============================] - 94s 75ms/step - loss: 0.7276 - accuracy: 0.7107 - val_loss: 1.4022 - val_accuracy: 0.5208\n",
      "Epoch 8/50\n",
      "1255/1255 [==============================] - 94s 75ms/step - loss: 0.5889 - accuracy: 0.7707 - val_loss: 1.5867 - val_accuracy: 0.4634\n",
      "Epoch 9/50\n",
      "1255/1255 [==============================] - 94s 75ms/step - loss: 0.4737 - accuracy: 0.8233 - val_loss: 1.6725 - val_accuracy: 0.4763\n",
      "Epoch 10/50\n",
      "1255/1255 [==============================] - 94s 75ms/step - loss: 0.3603 - accuracy: 0.8673 - val_loss: 1.9437 - val_accuracy: 0.4677\n",
      "Epoch 11/50\n",
      "1255/1255 [==============================] - 94s 75ms/step - loss: 0.2813 - accuracy: 0.9002 - val_loss: 2.1057 - val_accuracy: 0.4519\n",
      "94/94 [==============================] - 3s 33ms/step - loss: 1.4296 - accuracy: 0.4834\n",
      "Test Loss: 1.4296140670776367\n",
      "Test Accuracy: 0.4834281802177429\n"
     ]
    }
   ],
   "source": [
    "svd = TruncatedSVD(n_components=90, random_state=42)  #dimension reduction\n",
    "embedding_matrix_reduced = svd.fit_transform(embedding_matrix)\n",
    "\n",
    "\n",
    "model = Sequential(name=\"MyLSTM\")\n",
    "model.add(Embedding(input_dim=vocabulary_size, output_dim=90, \n",
    "                    weights=[embedding_matrix_reduced], input_length=MAX_SEQUENCE_LENGTH, trainable=False))\n",
    "model.add(LSTM(96, return_sequences=True))\n",
    "model.add(Bidirectional(LSTM(48, go_backwards=True, dropout=0.2)))\n",
    "model.add(Dense(5, activation='softmax'))\n",
    "\n",
    "\n",
    "opt = Adam(learning_rate=0.001)\n",
    "model.compile(loss='sparse_categorical_crossentropy', optimizer=opt, metrics=['accuracy'])\n",
    "# Define early stopping\n",
    "early_stopping = EarlyStopping(monitor='val_accuracy', patience=4, restore_best_weights=True, mode='auto')\n",
    "history = model.fit(X_train_padded, Y_train-1, epochs=50, batch_size=5, \n",
    "                    validation_split=0.1, callbacks=[early_stopping])\n",
    "# Evaluate model\n",
    "test_loss, test_accuracy = model.evaluate(X_test_padded, Y_test-1)\n",
    "print(\"Test Loss:\", test_loss)\n",
    "print(\"Test Accuracy:\", test_accuracy)"
   ]
  },
  {
   "cell_type": "code",
   "execution_count": 51,
   "metadata": {},
   "outputs": [
    {
     "name": "stdout",
     "output_type": "stream",
     "text": [
      "94/94 [==============================] - 3s 32ms/step\n"
     ]
    },
    {
     "data": {
      "image/png": "[encoded data removed]",
      "text/plain": [
       "<Figure size 432x288 with 2 Axes>"
      ]
     },
     "metadata": {},
     "output_type": "display_data"
    },
    {
     "name": "stdout",
     "output_type": "stream",
     "text": [
      "\n",
      "\n",
      "              precision    recall  f1-score   support\n",
      "\n",
      "           1       0.59      0.62      0.61       595\n",
      "           2       0.43      0.33      0.38       602\n",
      "           3       0.40      0.46      0.43       620\n",
      "           4       0.43      0.27      0.33       602\n",
      "           5       0.53      0.75      0.62       568\n",
      "\n",
      "    accuracy                           0.48      2987\n",
      "   macro avg       0.48      0.49      0.47      2987\n",
      "weighted avg       0.48      0.48      0.47      2987\n",
      "\n"
     ]
    }
   ],
   "source": [
    "sns.set() # use seaborn plotting style\n",
    "# Plot the confusion matrix\n",
    "pred_lstm = model.predict(X_test_padded) \n",
    "predicted_labels_lstm = np.argmax(pred_lstm, axis=1)\n",
    "\n",
    "mat_lstm = confusion_matrix(Y_test, predicted_labels_lstm+1)\n",
    "all_models['model_lstm']=mat_lstm\n",
    "predicted_all_models['model_lstm']=predicted_labels_lstm\n",
    "sns.heatmap(mat_lstm.T, square = True, annot=True, fmt = \"d\",xticklabels=['1','2','3','4','5'],\n",
    "            yticklabels=['1','2','3','4','5'])\n",
    "plt.xlabel(\"True label\")\n",
    "plt.ylabel(\"Predicted label\")\n",
    "plt.show()\n",
    "print(\"\\n\")\n",
    "\n",
    "print(classification_report(Y_test,predicted_labels_lstm+1))"
   ]
  },
  {
   "cell_type": "code",
   "execution_count": 29,
   "metadata": {
    "scrolled": true
   },
   "outputs": [
    {
     "name": "stdout",
     "output_type": "stream",
     "text": [
      "Model: \"MyLSTM\"\n",
      "_________________________________________________________________\n",
      " Layer (type)                Output Shape              Param #   \n",
      "=================================================================\n",
      " embedding_1 (Embedding)     (None, 100, 90)           360000    \n",
      "                                                                 \n",
      " lstm (LSTM)                 (None, 100, 96)           71808     \n",
      "                                                                 \n",
      " bidirectional (Bidirection  (None, 96)                55680     \n",
      " al)                                                             \n",
      "                                                                 \n",
      " dense_1 (Dense)             (None, 6)                 582       \n",
      "                                                                 \n",
      "=================================================================\n",
      "Total params: 488070 (1.86 MB)\n",
      "Trainable params: 128070 (500.27 KB)\n",
      "Non-trainable params: 360000 (1.37 MB)\n",
      "_________________________________________________________________\n"
     ]
    }
   ],
   "source": [
    "model.summary()"
   ]
  },
  {
   "cell_type": "code",
   "execution_count": 52,
   "metadata": {},
   "outputs": [
    {
     "data": {
      "image/png": "[encoded data removed]",
      "text/plain": [
       "<Figure size 720x360 with 1 Axes>"
      ]
     },
     "metadata": {},
     "output_type": "display_data"
    },
    {
     "data": {
      "image/png": "[encoded data removed]",
      "text/plain": [
       "<Figure size 720x360 with 1 Axes>"
      ]
     },
     "metadata": {},
     "output_type": "display_data"
    }
   ],
   "source": [
    "#visualization\n",
    "plt.figure(figsize=(10, 5))\n",
    "plt.title('Loss')\n",
    "plt.plot(history.history['loss'], label='Training Loss')\n",
    "plt.plot(history.history['val_loss'], label='Validation Loss')\n",
    "plt.xlabel('Epochs')\n",
    "plt.ylabel('Loss')\n",
    "plt.legend()\n",
    "plt.autoscale()\n",
    "plt.grid(True)\n",
    "plt.show()\n",
    "\n",
    "\n",
    "plt.figure(figsize=(10, 5))\n",
    "plt.title('Accuracy')\n",
    "plt.plot(history.history['accuracy'], label='Training Accuracy')\n",
    "plt.plot(history.history['val_accuracy'], label='Validation Accuracy')\n",
    "plt.xlabel('Epochs')\n",
    "plt.ylabel('Accuracy')\n",
    "plt.legend()\n",
    "plt.autoscale()\n",
    "plt.grid(True)\n",
    "plt.show()\n",
    "pkl_filename = \"lstm_model.pkl\"\n",
    "with open(pkl_filename, 'wb') as file: # Open file as binary file for writing (wb)\n",
    "    pickle.dump(model, file)"
   ]
  },
  {
   "cell_type": "markdown",
   "metadata": {
    "deletable": false,
    "editable": false,
    "nbgrader": {
     "cell_type": "markdown",
     "checksum": "c5e477712b6bad9901556381dd829392",
     "grade": false,
     "grade_id": "cell-9f3d1c8c43462384",
     "locked": true,
     "schema_version": 3,
     "solution": false,
     "task": false
    }
   },
   "source": [
    "## Implementation - Task 6\n",
    "Compute the confusion matrix, accuracy, F1-score, precision and recall for each model. (10%)"
   ]
  },
  {
   "cell_type": "code",
   "execution_count": 53,
   "metadata": {
    "deletable": false,
    "nbgrader": {
     "cell_type": "code",
     "checksum": "5080f7d517214809afe68eee9318b427",
     "grade": true,
     "grade_id": "cell-b3a9e53040d493c1",
     "locked": false,
     "points": 10,
     "schema_version": 3,
     "solution": true,
     "task": false
    }
   },
   "outputs": [
    {
     "data": {
      "image/png": "[encoded data removed]",
      "text/plain": [
       "<Figure size 864x720 with 8 Axes>"
      ]
     },
     "metadata": {},
     "output_type": "display_data"
    },
    {
     "name": "stderr",
     "output_type": "stream",
     "text": [
      "<ipython-input-53-e5bfd1f3ebfe>:34: FutureWarning: The behavior of DataFrame concatenation with empty or all-NA entries is deprecated. In a future version, this will no longer exclude empty or all-NA columns when determining the result dtypes. To retain the old behavior, exclude the relevant entries before the concat operation.\n",
      "  evaluation_df = pd.concat([evaluation_df, pd.DataFrame([new_row])], ignore_index=True)\n",
      "/apps/jupyterhub/COMP42415/lib/python3.11/site-packages/sklearn/metrics/_classification.py:1497: UndefinedMetricWarning: Precision is ill-defined and being set to 0.0 in labels with no predicted samples. Use `zero_division` parameter to control this behavior.\n",
      "  _warn_prf(average, modifier, f\"{metric.capitalize()} is\", len(result))\n",
      "/apps/jupyterhub/COMP42415/lib/python3.11/site-packages/sklearn/metrics/_classification.py:1497: UndefinedMetricWarning: Recall is ill-defined and being set to 0.0 in labels with no true samples. Use `zero_division` parameter to control this behavior.\n",
      "  _warn_prf(average, modifier, f\"{metric.capitalize()} is\", len(result))\n"
     ]
    },
    {
     "data": {
      "text/html": [
       "<div>\n",
       "<style scoped>\n",
       "    .dataframe tbody tr th:only-of-type {\n",
       "        vertical-align: middle;\n",
       "    }\n",
       "\n",
       "    .dataframe tbody tr th {\n",
       "        vertical-align: top;\n",
       "    }\n",
       "\n",
       "    .dataframe thead th {\n",
       "        text-align: right;\n",
       "    }\n",
       "</style>\n",
       "<table border=\"1\" class=\"dataframe\">\n",
       "  <thead>\n",
       "    <tr style=\"text-align: right;\">\n",
       "      <th></th>\n",
       "      <th>Model</th>\n",
       "      <th>Accuracy</th>\n",
       "      <th>F1-score</th>\n",
       "      <th>Precision</th>\n",
       "      <th>Recall</th>\n",
       "    </tr>\n",
       "  </thead>\n",
       "  <tbody>\n",
       "    <tr>\n",
       "      <th>0</th>\n",
       "      <td>bayes_model</td>\n",
       "      <td>0.478406</td>\n",
       "      <td>0.482742</td>\n",
       "      <td>0.486660</td>\n",
       "      <td>0.480068</td>\n",
       "    </tr>\n",
       "    <tr>\n",
       "      <th>1</th>\n",
       "      <td>knn_model</td>\n",
       "      <td>0.318045</td>\n",
       "      <td>0.315058</td>\n",
       "      <td>0.319271</td>\n",
       "      <td>0.318772</td>\n",
       "    </tr>\n",
       "    <tr>\n",
       "      <th>2</th>\n",
       "      <td>model_cnn</td>\n",
       "      <td>0.445598</td>\n",
       "      <td>0.433024</td>\n",
       "      <td>0.439363</td>\n",
       "      <td>0.449713</td>\n",
       "    </tr>\n",
       "    <tr>\n",
       "      <th>3</th>\n",
       "      <td>model_lstm</td>\n",
       "      <td>0.213257</td>\n",
       "      <td>0.171962</td>\n",
       "      <td>0.175980</td>\n",
       "      <td>0.175969</td>\n",
       "    </tr>\n",
       "  </tbody>\n",
       "</table>\n",
       "</div>"
      ],
      "text/plain": [
       "         Model  Accuracy  F1-score  Precision    Recall\n",
       "0  bayes_model  0.478406  0.482742   0.486660  0.480068\n",
       "1    knn_model  0.318045  0.315058   0.319271  0.318772\n",
       "2    model_cnn  0.445598  0.433024   0.439363  0.449713\n",
       "3   model_lstm  0.213257  0.171962   0.175980  0.175969"
      ]
     },
     "metadata": {},
     "output_type": "display_data"
    }
   ],
   "source": [
    "def scores(model_names):\n",
    "    sns.set()\n",
    "    num_models = len(model_names)\n",
    "    fig, axes = plt.subplots(2, 2, figsize=(12, 10))\n",
    "    for i, model_name in enumerate(model_names):\n",
    "        row=i//2\n",
    "        col=i%2\n",
    "        sns.heatmap(all_models[model_name].T, square=True, annot=True, fmt=\"d\",\n",
    "                    xticklabels=['1', '2', '3', '4', '5'], \n",
    "                    yticklabels=['1', '2', '3', '4', '5'], \n",
    "                    ax=axes[row, col],\n",
    "                    cmap=\"Blues\")\n",
    "        axes[row, col].set_title(\"Confusion matrix of {}\".format(model_name))\n",
    "        axes[row, col].set_xlabel(\"True label\")\n",
    "        axes[row, col].set_ylabel(\"Predicted label\")\n",
    "    plt.tight_layout() \n",
    "    plt.show()\n",
    "\n",
    "model_names = list(all_models.keys())\n",
    "scores(model_names)\n",
    "\n",
    "\n",
    "evaluation_df = pd.DataFrame(columns=['Model', 'Accuracy', 'F1-score', 'Precision', 'Recall'])\n",
    "for model_name in model_names:\n",
    "    accuracy = accuracy_score(Y_test, predicted_all_models[model_name])\n",
    "    f1 = f1_score(Y_test, predicted_all_models[model_name], average='macro')\n",
    "    precision = precision_score(Y_test, predicted_all_models[model_name], average='macro')\n",
    "    recall = recall_score(Y_test, predicted_all_models[model_name], average='macro')\n",
    "    new_row = {'Model': model_name, \n",
    "               'Accuracy': accuracy, \n",
    "               'F1-score': f1, \n",
    "               'Precision': precision, \n",
    "               'Recall': recall}\n",
    "    evaluation_df = pd.concat([evaluation_df, pd.DataFrame([new_row])], ignore_index=True)\n",
    "display(evaluation_df)\n"
   ]
  },
  {
   "cell_type": "markdown",
   "metadata": {
    "deletable": false,
    "editable": false,
    "nbgrader": {
     "cell_type": "markdown",
     "checksum": "9def807c7734179b60c1d5121bbbd436",
     "grade": false,
     "grade_id": "cell-290a6e3bf464e305",
     "locked": true,
     "schema_version": 3,
     "solution": false,
     "task": false
    }
   },
   "source": [
    "## Implementation - Task 7\n",
    "Store the **four** trained models in files and implement a function `predict_food_review(text, model)` that given a <ins>text string</ins> (“`text`”) and model <ins>filename</ins> (“`model`”), it will load the pre-trained model, and predict the food review rating of the input text. The function should be able to work without requiring to rerun all or part of your code. (**10%**)"
   ]
  },
  {
   "cell_type": "code",
   "execution_count": 59,
   "metadata": {
    "deletable": false,
    "nbgrader": {
     "cell_type": "code",
     "checksum": "03a2117734166d6e91043d88d5c5ef8a",
     "grade": true,
     "grade_id": "cell-f384d017d7d6ac75",
     "locked": false,
     "points": 10,
     "schema_version": 3,
     "solution": true,
     "task": false
    }
   },
   "outputs": [
    {
     "name": "stdout",
     "output_type": "stream",
     "text": [
      "Please enter your comments about the food: I'm really disappointed with the food here; it's so bland, I can't taste anything!\n",
      "Please enter the name of the model: naive_bayes_model\n",
      "1/1 [==============================] - 0s 107ms/step\n",
      "The predicted rating of the comment is: 1\n",
      "Please enter your comments about the food: I'm loving the food at this restaurant; it's a culinary delight!\"\n",
      "Please enter the name of the model: lstm_model\n",
      "1/1 [==============================] - 1s 929ms/step\n",
      "The predicted rating of the comment is: 5\n",
      "Please enter your comments about the food: This dish is just ok, the flavors are good! The meat maybe not that fresh enough though\n",
      "Please enter the name of the model: knn_model\n",
      "The predicted rating of the comment is: 4\n",
      "Please enter your comments about the food: The service at this place is terrible, and the food is mediocre; I won't be coming back again!\n",
      "Please enter the name of the model: cnn_model\n",
      "1/1 [==============================] - 0s 107ms/step\n",
      "The predicted rating of the comment is: 1\n"
     ]
    }
   ],
   "source": [
    "def predict_food_review(text, model_name):\n",
    "    model_path = f\"{model_name}.pkl\"\n",
    "    with open(model_path, 'rb') as file:\n",
    "        model = pickle.load(file)\n",
    "    text = cleaning(text, stopwords_english)\n",
    "    text_list=[]\n",
    "    text_list.append(text)\n",
    "    if model_name=='lstm_model':\n",
    "        text_seq = tokenizer.texts_to_sequences(text_list)\n",
    "        text_padded = tf.keras.preprocessing.sequence.pad_sequences(text_seq, maxlen=100)\n",
    "        predicted_rating = model.predict(text_padded)\n",
    "        predicted_ratings = np.argmax(predicted_rating, axis=1)\n",
    "        predicted_ratings +=1\n",
    "        print(\"The predicted rating of the comment is:\", predicted_ratings[0])\n",
    "    elif model_name =='knn_model':\n",
    "        predicted_rating = model.predict(text_list)\n",
    "        print(\"The predicted rating of the comment is:\", predicted_rating[0])\n",
    "    elif model_name=='cnn_model' or 'naive_bayes_model':\n",
    "        predicted_rating = model.predict(text_list)\n",
    "        predicted_ratings = np.argmax(predicted_rating, axis=1)\n",
    "        print(\"The predicted rating of the comment is:\", predicted_ratings[0])\n",
    "    else:\n",
    "        print(\"There are no such model! Please choose other models!\")\n",
    "        \n",
    "\n",
    "for _ in range(4):  \n",
    "    comments = str(input(\"Please enter your comments about the food: \"))\n",
    "    model_name = str(input(\"Please enter the name of the model: \"))\n",
    "    predict_food_review(comments, model_name)\n",
    "\n",
    "\n",
    "\n",
    "\n"
   ]
  },
  {
   "cell_type": "markdown",
   "metadata": {
    "deletable": false,
    "editable": false,
    "nbgrader": {
     "cell_type": "markdown",
     "checksum": "66fe20bf6b18e122ab5eb3a8110ee13b",
     "grade": false,
     "grade_id": "cell-3632d0c81d039058",
     "locked": true,
     "schema_version": 3,
     "solution": false,
     "task": false
    }
   },
   "source": [
    "## Report - Task 1\n",
    "Critical discussion about the dataset (suitability, problems, class balance, etc.). (**6%**)"
   ]
  },
  {
   "cell_type": "markdown",
   "metadata": {
    "deletable": false,
    "nbgrader": {
     "cell_type": "markdown",
     "checksum": "c04a7d6b4dc1614cce18ae7dc9b59ee0",
     "grade": true,
     "grade_id": "cell-723b0c0e08ba0f30",
     "locked": false,
     "points": 6,
     "schema_version": 3,
     "solution": true,
     "task": false
    }
   },
   "source": [
    "Three variables make up the dataset regarding food reviews on Amazon: the text of the comments, their scores (from 1 to 5) and a brief summary of each comment. This data collection contains more than 500000 comments, with over 150000 of them being duplicates. In addition, the \"Summary\" has roughly 27 missing values.  Additionally, there is an imbalance in the number of observations in each score. While the numbers of score 2 only make up less than 5% of the dataset, the total numbers of score 5 provided by online users make up over 50% of the dataset. In the meantime, the proportion of the other scores' numbers is identical."
   ]
  },
  {
   "cell_type": "markdown",
   "metadata": {
    "deletable": false,
    "editable": false,
    "nbgrader": {
     "cell_type": "markdown",
     "checksum": "e16e80cbdb327b4bd8b3dc8644c93953",
     "grade": false,
     "grade_id": "cell-cf6f3bf73d0b219c",
     "locked": true,
     "schema_version": 3,
     "solution": false,
     "task": false
    }
   },
   "source": [
    "## Report - Task 2\n",
    "Description and justification of the data preparation step(s) used. (**6%**)"
   ]
  },
  {
   "cell_type": "markdown",
   "metadata": {
    "deletable": false,
    "nbgrader": {
     "cell_type": "markdown",
     "checksum": "9d827d373523a1ebd5f7adf108d5fc5e",
     "grade": true,
     "grade_id": "cell-ff3a7a6577a764fb",
     "locked": false,
     "points": 6,
     "schema_version": 3,
     "solution": true,
     "task": false
    }
   },
   "source": [
    "Initially, I downsampled the dataset, took the equal amount of observations from each score, and mixed them together to create a subset of the original dataset in order to balance the sample set. There are 1991 observations in each score, for a total of 9955 observations in the subset. I then created a new column by combining the \"Summary\" and \"Text\" and separating them with a period. I used this new column together with the column labeled \"Score\" as my new sample set. I left the missing data in place. In general, the sample set as a whole show that the percentage of missing values is negligible. However, the missing information only occurs in the \"Summary,\" so this problem can be resolved by combining the text and summary.  As the initial stage of data cleaning, I then changed every word to lowercase. Next, I removed every tag in the context—such as <br> and <br />—as well as all email addresses and web links because they brought nothing to the emotional expressions in the text. Finally, I extracted purely the text and dropped the numbers because they also didn't convey any emotional information. It is difficult for us to determine what number indicates greater liking, even though in some cases, the higher the number, the more individuals like the dish. Due to this, I don't take the numbers in the texts into consideration in this situation. After that, I tokenized the text in words and eliminated stopwords, which omitted antisense words and completely changed the text's meaning. In addition, I added a new column to the sample set based on the outcome. \n",
    "At last, I split the sample set into a 7:3 ratio across the training and test sets. \n"
   ]
  },
  {
   "cell_type": "markdown",
   "metadata": {
    "deletable": false,
    "editable": false,
    "nbgrader": {
     "cell_type": "markdown",
     "checksum": "5bfd5a727276dd53f136df6d1d262fe6",
     "grade": false,
     "grade_id": "cell-0a65e991a54b21c4",
     "locked": true,
     "schema_version": 3,
     "solution": false,
     "task": false
    }
   },
   "source": [
    "## Report - Task 3\n",
    "Description and commentary on the machine learning architectures used, including a description and justification of the text representation method(s) used. (**7%**)"
   ]
  },
  {
   "cell_type": "markdown",
   "metadata": {
    "deletable": false,
    "nbgrader": {
     "cell_type": "markdown",
     "checksum": "03960b9d6fae49a8bbd6547d5c67b9fc",
     "grade": true,
     "grade_id": "cell-6c64da91adfef770",
     "locked": false,
     "points": 7,
     "schema_version": 3,
     "solution": true,
     "task": false
    }
   },
   "source": [
    "1、\tNaïve Bayes model.\n",
    "The foundation of the naïve Bayes model is the idea that all terms and characteristics are conditionally independent, as well as the idea of Bayes theory. I represented text using the TF-IDF approach as a result.  The text's frequency of each word can be calculated using TF-IDF, which also gauges how unique each word is from the others. Each word in the text is represented by a matrix that is returned. In my pipeline, I first transform the input into TF-IDF vectors before using a Multinomial Naïve Bayes algorithm for multiple classification. In order to predict the food ratings on the test set, I first trained the model on the training set. \n",
    "\n",
    "2、\tk-Nearest Neighbors model.\n",
    "Samples are categorized by this model based on how closely their attributes match those in the training set. It determines the input class based on the majority class among its closest neighbors and computes the distance between the training samples and samples. I put up a pipeline and represented text using the TF-IDF approach, which has the same structure as the Naïve Bayes model. In addition, I experimented with 1, 3, 5, and 7 as the model's k values. I computed each F1 score and used 5-fold cross-validation to choose the optimum k. The best k value is correlated with the highest F1 score. Following the selection of the best k, I predicted the food ratings using the model on the test set. \n",
    "\n",
    "3、Convolutional Neural Network.\n",
    "CNN is primarily utilized for network structure data, particularly text and image data. The basic idea is to automatically extract features from convolutional layers, pooling layers, and fully connected layers without the need for feature design. \n",
    "First, text was tokenized into words using the \"TextVecotization\" layer, and then the text was converted into integer sequences. The sequences were then padded to a predetermined length. Subsequently, an embedding layer was incorporated to map the fixed-size dense vectors and integer word sequences. To capture the text features, I then added two 1D convolutional layers with ReLU activation. In addition, I employed a dropout layer to avoid overfitting and a global max-pooling layer to down sample the feature maps to speed up the running process. Early halting was used to avoid overfitting while the sparse categorical cross-entropy loss function and Adam optimizer were being assembled in the model. \n",
    "\n",
    "4、Long Short-Term Memory model.\n",
    "The model, which belongs to the family of recurrent neural networks (RNNs), is frequently applied to emotional analysis and text classification. It is capable of efficiently capturing the important details in lengthy sequences. \n",
    "In order to provide each text segment the same length, I first converted the text into numerical sequences and filled the text sequence. Next, I converted each word into a vector by using the pretrained word-embedding technique \"GloVe\" for the word embedding. Subsequently, I lowered the word embedding matrix's dimension in order to boost efficiency and lower computing complexity. \n",
    "To extract better sequence properties, I utilized a one-way and a bidirectional LSTM layer inside the model. For multiclassification jobs, I added an output layer. Early halting was used to avoid overfitting while the sparse categorical cross-entropy loss function and Adam optimizer were being assembled in the model.\n"
   ]
  },
  {
   "cell_type": "markdown",
   "metadata": {
    "deletable": false,
    "editable": false,
    "nbgrader": {
     "cell_type": "markdown",
     "checksum": "874f5d8565ae3e5a4cb52d837e4beceb",
     "grade": false,
     "grade_id": "cell-7112118f421c6a5a",
     "locked": true,
     "schema_version": 3,
     "solution": false,
     "task": false
    }
   },
   "source": [
    "## Report - Task 4\n",
    "Detailed performance evaluation of the trained machine learning models in terms of the computed performance metrics. (**5%**)"
   ]
  },
  {
   "cell_type": "markdown",
   "metadata": {
    "deletable": false,
    "nbgrader": {
     "cell_type": "markdown",
     "checksum": "071a2e19285688d52725adc2063d2044",
     "grade": true,
     "grade_id": "cell-201e49e468eaa417",
     "locked": false,
     "points": 5,
     "schema_version": 3,
     "solution": true,
     "task": false
    }
   },
   "source": [
    "We can observe from the plots that all models predict ratings of comments with true scores of 1 and 5 more accurately than comments with genuine ratings of 2, 3, and 4. With the highest accuracy of 49.14%, the highest F1-score of 47.64%, and the highest recall value of 49.18% among these models, LSTM outperformed the others; the precision value of 47.82% ranked second, only behind the Naïve Bayes Model. Meanwhile, it did not perform well for any of the lowest indexes, even if the k Nearest Neighbors Model's best k value, 7, had been chosen. We can also see from the confusion matrix that sentences with actual scores between 1 and 5 are the ones that the LSTM Model predicts the most accurately. Out of the four models, the Naïve Bayes model was the most accurate in predicting texts with an actual score of 3, and it was also the most accurate at predicting the number of texts with five scores."
   ]
  },
  {
   "cell_type": "markdown",
   "metadata": {
    "deletable": false,
    "editable": false,
    "nbgrader": {
     "cell_type": "markdown",
     "checksum": "ac8dc11dd7f998b7d3d5c0e904c08c5f",
     "grade": false,
     "grade_id": "cell-5e6e5b8b57811a63",
     "locked": true,
     "schema_version": 3,
     "solution": false,
     "task": false
    }
   },
   "source": [
    "## Report - Task 5\n",
    "Critical discussion on the achieved results, including potential limitations and usage instructions/suggestions. (**6%**)"
   ]
  },
  {
   "cell_type": "markdown",
   "metadata": {
    "deletable": false,
    "nbgrader": {
     "cell_type": "markdown",
     "checksum": "27dd1c5197d66c3081a133456110abb0",
     "grade": true,
     "grade_id": "cell-11c60b80d50f1d27",
     "locked": false,
     "points": 6,
     "schema_version": 3,
     "solution": true,
     "task": false
    }
   },
   "source": [
    "The results of all four models show that, in texts with actual scores between 1 and 5, all four models perform well in terms of prediction since it is simple to extract the characteristics of \"the best\" and \"the worst\" from the original texts. However, it can be challenging to evaluate these models' embodied attitudes if the text has a neutral emotional presentation. Consequently, these models can be further refined to extract more specific data in order to assess the emotions expressed in those neutral texts. Furthermore, I discovered that the Naïve Bayes model ran the fastest throughout training and testing, while the k-Nearest Neighbors model tested quite slowly after training quickly. LSTM Model had the slowest speed during both the training and testing phases, despite my reduction of the input matrix's dimensions. Therefore, if it is used, it can also be tuned for speed due to its high accuracy rate. \n",
    "Furthermore, because the data set is too big, it is difficult to determine whether there are any other noise patterns in the dataset. As a result, there are certain restrictions on the project's cleaning procedure for unforeseen forms. \n",
    "Another problem is the excessive imbalance in the original data set, which may affect feature extraction in the process. A very high percentage of observations were scored 5, and there are very few observations in the other categories. I also drew based on the group with the fewest observations because even I decided to extract the same number of observations for each score. \n",
    "Tips: \n",
    "While the feedback result of CNN and LSTM models is the probability value of the text falling on each group, the maximum probability needs to be selected, and the output indexes need to be added to the maximum value selection, the prediction result of Naïve Bayes and K-Nearest Neighbors models can be output directly. Nevertheless, the final part is now part of the definition function, so you can input the text and output the expected outcome right away. \n",
    "Moreover, these models are limited to English usage. So, they can only predict the comments in English version.\n"
   ]
  },
  {
   "cell_type": "code",
   "execution_count": null,
   "metadata": {},
   "outputs": [],
   "source": []
  }
 ],
 "metadata": {
  "kernelspec": {
   "display_name": "Python 3",
   "language": "python",
   "name": "python3"
  },
  "language_info": {
   "codemirror_mode": {
    "name": "ipython",
    "version": 3
   },
   "file_extension": ".py",
   "mimetype": "text/x-python",
   "name": "python",
   "nbconvert_exporter": "python",
   "pygments_lexer": "ipython3",
   "version": "3.8.10"
  }
 },
 "nbformat": 4,
 "nbformat_minor": 4
}
